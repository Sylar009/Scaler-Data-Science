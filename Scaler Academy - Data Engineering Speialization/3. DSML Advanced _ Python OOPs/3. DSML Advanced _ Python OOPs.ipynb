{
 "cells": [
  {
   "cell_type": "code",
   "execution_count": 1,
   "id": "2855e566",
   "metadata": {},
   "outputs": [],
   "source": [
    "# an example of a class\n",
    "class Student:\n",
    "    pass"
   ]
  },
  {
   "cell_type": "code",
   "execution_count": 2,
   "id": "ee8fe36c",
   "metadata": {},
   "outputs": [],
   "source": [
    "# instance\n",
    "s1 = Student()"
   ]
  },
  {
   "cell_type": "code",
   "execution_count": 3,
   "id": "4cc573c7",
   "metadata": {},
   "outputs": [
    {
     "data": {
      "text/plain": [
       "__main__.Student"
      ]
     },
     "execution_count": 3,
     "metadata": {},
     "output_type": "execute_result"
    }
   ],
   "source": [
    "type(s1)"
   ]
  },
  {
   "cell_type": "code",
   "execution_count": 4,
   "id": "fe3a3504",
   "metadata": {},
   "outputs": [],
   "source": [
    "s1.name = \"John\""
   ]
  },
  {
   "cell_type": "code",
   "execution_count": 5,
   "id": "3088b637",
   "metadata": {},
   "outputs": [
    {
     "name": "stdout",
     "output_type": "stream",
     "text": [
      "John\n"
     ]
    }
   ],
   "source": [
    "print(s1.name)"
   ]
  },
  {
   "cell_type": "code",
   "execution_count": 6,
   "id": "f09f8fb9",
   "metadata": {},
   "outputs": [],
   "source": [
    "s2 = Student()"
   ]
  },
  {
   "cell_type": "code",
   "execution_count": 7,
   "id": "f31f1329",
   "metadata": {},
   "outputs": [
    {
     "ename": "AttributeError",
     "evalue": "'Student' object has no attribute 'name'",
     "output_type": "error",
     "traceback": [
      "\u001b[1;31m---------------------------------------------------------------------------\u001b[0m",
      "\u001b[1;31mAttributeError\u001b[0m                            Traceback (most recent call last)",
      "Cell \u001b[1;32mIn[7], line 1\u001b[0m\n\u001b[1;32m----> 1\u001b[0m \u001b[43ms2\u001b[49m\u001b[38;5;241;43m.\u001b[39;49m\u001b[43mname\u001b[49m\n",
      "\u001b[1;31mAttributeError\u001b[0m: 'Student' object has no attribute 'name'"
     ]
    }
   ],
   "source": [
    "s2.name"
   ]
  },
  {
   "cell_type": "code",
   "execution_count": null,
   "id": "ddcc04a2",
   "metadata": {},
   "outputs": [],
   "source": []
  },
  {
   "cell_type": "code",
   "execution_count": 8,
   "id": "c42d8473",
   "metadata": {},
   "outputs": [],
   "source": [
    "class Student:\n",
    "    # constructor\n",
    "    def __init__(self):\n",
    "        print(\"Creating a new student...\")\n",
    "        self.name = \"un-named\"\n",
    "        "
   ]
  },
  {
   "cell_type": "code",
   "execution_count": 9,
   "id": "460fc1df",
   "metadata": {},
   "outputs": [
    {
     "name": "stdout",
     "output_type": "stream",
     "text": [
      "Creating a new student...\n",
      "Creating a new student...\n"
     ]
    }
   ],
   "source": [
    "s1 = Student()\n",
    "s2 = Student()"
   ]
  },
  {
   "cell_type": "code",
   "execution_count": 10,
   "id": "e16662b3",
   "metadata": {},
   "outputs": [
    {
     "data": {
      "text/plain": [
       "<__main__.Student at 0x16cca7f4260>"
      ]
     },
     "execution_count": 10,
     "metadata": {},
     "output_type": "execute_result"
    }
   ],
   "source": [
    "s1"
   ]
  },
  {
   "cell_type": "code",
   "execution_count": 11,
   "id": "a8461331",
   "metadata": {},
   "outputs": [
    {
     "data": {
      "text/plain": [
       "<__main__.Student at 0x16cca500260>"
      ]
     },
     "execution_count": 11,
     "metadata": {},
     "output_type": "execute_result"
    }
   ],
   "source": [
    "s2"
   ]
  },
  {
   "cell_type": "code",
   "execution_count": 12,
   "id": "5bc51f5d",
   "metadata": {},
   "outputs": [
    {
     "data": {
      "text/plain": [
       "'un-named'"
      ]
     },
     "execution_count": 12,
     "metadata": {},
     "output_type": "execute_result"
    }
   ],
   "source": [
    "s1.name"
   ]
  },
  {
   "cell_type": "code",
   "execution_count": 13,
   "id": "457cb735",
   "metadata": {},
   "outputs": [
    {
     "data": {
      "text/plain": [
       "'un-named'"
      ]
     },
     "execution_count": 13,
     "metadata": {},
     "output_type": "execute_result"
    }
   ],
   "source": [
    "s2.name"
   ]
  },
  {
   "cell_type": "code",
   "execution_count": 14,
   "id": "466100e9",
   "metadata": {},
   "outputs": [],
   "source": [
    "class Student:\n",
    "    # constructor\n",
    "    def __init__(self, new_name):\n",
    "        print(\"Creating a new student...\")\n",
    "        self.name = new_name\n",
    "        "
   ]
  },
  {
   "cell_type": "code",
   "execution_count": 15,
   "id": "b4401bfe",
   "metadata": {},
   "outputs": [
    {
     "name": "stdout",
     "output_type": "stream",
     "text": [
      "Creating a new student...\n",
      "Creating a new student...\n"
     ]
    }
   ],
   "source": [
    "s1 = Student(\"John\")\n",
    "s2 = Student(\"Bill\")"
   ]
  },
  {
   "cell_type": "code",
   "execution_count": 16,
   "id": "f0c3c046",
   "metadata": {},
   "outputs": [
    {
     "data": {
      "text/plain": [
       "'John'"
      ]
     },
     "execution_count": 16,
     "metadata": {},
     "output_type": "execute_result"
    }
   ],
   "source": [
    "s1.name"
   ]
  },
  {
   "cell_type": "code",
   "execution_count": 17,
   "id": "659267d3",
   "metadata": {},
   "outputs": [
    {
     "data": {
      "text/plain": [
       "'Bill'"
      ]
     },
     "execution_count": 17,
     "metadata": {},
     "output_type": "execute_result"
    }
   ],
   "source": [
    "s2.name"
   ]
  },
  {
   "cell_type": "code",
   "execution_count": 18,
   "id": "90a4a1ef",
   "metadata": {},
   "outputs": [
    {
     "name": "stdout",
     "output_type": "stream",
     "text": [
      "Creating a new student...\n"
     ]
    }
   ],
   "source": [
    "s3 = Student(789)"
   ]
  },
  {
   "cell_type": "code",
   "execution_count": 19,
   "id": "b5120533",
   "metadata": {},
   "outputs": [
    {
     "data": {
      "text/plain": [
       "int"
      ]
     },
     "execution_count": 19,
     "metadata": {},
     "output_type": "execute_result"
    }
   ],
   "source": [
    "type(s3.name)"
   ]
  },
  {
   "cell_type": "code",
   "execution_count": 20,
   "id": "76205f1f",
   "metadata": {},
   "outputs": [
    {
     "data": {
      "text/plain": [
       "type"
      ]
     },
     "execution_count": 20,
     "metadata": {},
     "output_type": "execute_result"
    }
   ],
   "source": [
    "type(Student)"
   ]
  },
  {
   "cell_type": "code",
   "execution_count": null,
   "id": "909eb0dc",
   "metadata": {},
   "outputs": [],
   "source": []
  },
  {
   "cell_type": "code",
   "execution_count": 21,
   "id": "3a7bf632",
   "metadata": {},
   "outputs": [],
   "source": [
    "class Student:\n",
    "    \n",
    "    # class variable\n",
    "    count = 0\n",
    "    \n",
    "    # constructor\n",
    "    def __init__(self, new_name):\n",
    "        print(\"Creating a new student...\")\n",
    "        self.name = new_name\n",
    "        self.id = Student.count\n",
    "        Student.count +=1\n",
    "        "
   ]
  },
  {
   "cell_type": "code",
   "execution_count": 22,
   "id": "6a3b5fd0",
   "metadata": {},
   "outputs": [
    {
     "name": "stdout",
     "output_type": "stream",
     "text": [
      "Creating a new student...\n",
      "Creating a new student...\n"
     ]
    }
   ],
   "source": [
    "s1 = Student(\"John\")\n",
    "s2 = Student(\"Bill\")"
   ]
  },
  {
   "cell_type": "code",
   "execution_count": 23,
   "id": "8bdfb78a",
   "metadata": {},
   "outputs": [
    {
     "data": {
      "text/plain": [
       "2"
      ]
     },
     "execution_count": 23,
     "metadata": {},
     "output_type": "execute_result"
    }
   ],
   "source": [
    "Student.count"
   ]
  },
  {
   "cell_type": "code",
   "execution_count": 24,
   "id": "60f3c05d",
   "metadata": {},
   "outputs": [
    {
     "name": "stdout",
     "output_type": "stream",
     "text": [
      "0\n",
      "John\n"
     ]
    }
   ],
   "source": [
    "print(s1.id)\n",
    "print(s1.name)"
   ]
  },
  {
   "cell_type": "code",
   "execution_count": 25,
   "id": "a676a362",
   "metadata": {},
   "outputs": [
    {
     "name": "stdout",
     "output_type": "stream",
     "text": [
      "1 Bill\n"
     ]
    }
   ],
   "source": [
    "print(s2.id, s2.name)"
   ]
  },
  {
   "cell_type": "code",
   "execution_count": 26,
   "id": "cdbe061c",
   "metadata": {},
   "outputs": [
    {
     "name": "stdout",
     "output_type": "stream",
     "text": [
      "Creating a new student...\n"
     ]
    }
   ],
   "source": [
    "s3 = Student(\"Anne\")"
   ]
  },
  {
   "cell_type": "code",
   "execution_count": 27,
   "id": "0fbae42e",
   "metadata": {},
   "outputs": [
    {
     "name": "stdout",
     "output_type": "stream",
     "text": [
      "2 Anne\n"
     ]
    }
   ],
   "source": [
    "print(s3.id, s3.name)"
   ]
  },
  {
   "cell_type": "code",
   "execution_count": 28,
   "id": "c728f6da",
   "metadata": {},
   "outputs": [
    {
     "name": "stdout",
     "output_type": "stream",
     "text": [
      "3\n"
     ]
    }
   ],
   "source": [
    "print(s1.count)"
   ]
  },
  {
   "cell_type": "code",
   "execution_count": 29,
   "id": "186d6e0a",
   "metadata": {},
   "outputs": [],
   "source": [
    "# created a new property.\n",
    "s2.count = 40"
   ]
  },
  {
   "cell_type": "code",
   "execution_count": 30,
   "id": "60175238",
   "metadata": {},
   "outputs": [
    {
     "name": "stdout",
     "output_type": "stream",
     "text": [
      "3\n",
      "3\n",
      "40\n",
      "3\n"
     ]
    }
   ],
   "source": [
    "print(Student.count)\n",
    "print(s1.count)\n",
    "print(s2.count)\n",
    "print(s3.count)"
   ]
  },
  {
   "cell_type": "code",
   "execution_count": 31,
   "id": "ff02bee6",
   "metadata": {},
   "outputs": [],
   "source": [
    "s2.count = 40"
   ]
  },
  {
   "cell_type": "code",
   "execution_count": 32,
   "id": "8107f84b",
   "metadata": {},
   "outputs": [],
   "source": [
    "# s1.count += 1\n",
    "\n",
    "# ans --> 4\n",
    "# s1.count = s1.count + 1"
   ]
  },
  {
   "cell_type": "code",
   "execution_count": 33,
   "id": "5b3391c5",
   "metadata": {},
   "outputs": [
    {
     "name": "stdout",
     "output_type": "stream",
     "text": [
      "0 John\n",
      "1 Bill\n",
      "2 Anne\n"
     ]
    }
   ],
   "source": [
    "for item in s1,s2,s3:\n",
    "    print(item.id, item.name)"
   ]
  },
  {
   "cell_type": "code",
   "execution_count": null,
   "id": "1d5336bb",
   "metadata": {},
   "outputs": [],
   "source": []
  },
  {
   "cell_type": "code",
   "execution_count": 34,
   "id": "38d41af3",
   "metadata": {},
   "outputs": [
    {
     "name": "stdout",
     "output_type": "stream",
     "text": [
      "5\n",
      "7\n"
     ]
    }
   ],
   "source": [
    "class A():\n",
    "    def __init__(self,count=5):\n",
    "        self.count=count\n",
    "\n",
    "        \n",
    "obj1=A()\n",
    "obj2=A(7)\n",
    "\n",
    "print(obj1.count)\n",
    "print(obj2.count)"
   ]
  },
  {
   "cell_type": "code",
   "execution_count": null,
   "id": "d61bca5d",
   "metadata": {},
   "outputs": [],
   "source": []
  },
  {
   "cell_type": "code",
   "execution_count": null,
   "id": "5b689dfe",
   "metadata": {},
   "outputs": [],
   "source": []
  },
  {
   "cell_type": "code",
   "execution_count": 35,
   "id": "e582bd93",
   "metadata": {},
   "outputs": [],
   "source": [
    "lst = [1,2,3,4,5]"
   ]
  },
  {
   "cell_type": "code",
   "execution_count": 36,
   "id": "b6678613",
   "metadata": {},
   "outputs": [
    {
     "name": "stdout",
     "output_type": "stream",
     "text": [
      "[1, 2, 3, 4, 5]\n"
     ]
    }
   ],
   "source": [
    "print(lst)"
   ]
  },
  {
   "cell_type": "code",
   "execution_count": 37,
   "id": "c4039563",
   "metadata": {},
   "outputs": [
    {
     "data": {
      "text/plain": [
       "[1, 2, 3, 4, 5]"
      ]
     },
     "execution_count": 37,
     "metadata": {},
     "output_type": "execute_result"
    }
   ],
   "source": [
    "lst"
   ]
  },
  {
   "cell_type": "code",
   "execution_count": 38,
   "id": "c94b0b9c",
   "metadata": {},
   "outputs": [],
   "source": [
    "class Student:\n",
    "    \n",
    "    # class variable\n",
    "    count = 0\n",
    "    \n",
    "    # constructor\n",
    "    def __init__(self, new_name):\n",
    "        print(\"Creating a new student...\")\n",
    "        self.name = new_name\n",
    "        self.id = Student.count\n",
    "        Student.count +=1\n",
    "    \n",
    "    def __str__(self):\n",
    "        return f\"My name is {self.name} with id {self.id}\"\n",
    "    \n",
    "    def __repr__(self):\n",
    "        return f\"My name is {self.name} with id {self.id}\""
   ]
  },
  {
   "cell_type": "code",
   "execution_count": null,
   "id": "22119bcf",
   "metadata": {},
   "outputs": [],
   "source": []
  },
  {
   "cell_type": "code",
   "execution_count": 39,
   "id": "59fd106e",
   "metadata": {},
   "outputs": [
    {
     "name": "stdout",
     "output_type": "stream",
     "text": [
      "Creating a new student...\n",
      "Creating a new student...\n"
     ]
    }
   ],
   "source": [
    "s1 = Student(\"John\")\n",
    "s2 = Student(\"Bill\")"
   ]
  },
  {
   "cell_type": "code",
   "execution_count": 40,
   "id": "a3fede33",
   "metadata": {},
   "outputs": [
    {
     "data": {
      "text/plain": [
       "'My name is John with id 0'"
      ]
     },
     "execution_count": 40,
     "metadata": {},
     "output_type": "execute_result"
    }
   ],
   "source": [
    "str(s1)"
   ]
  },
  {
   "cell_type": "code",
   "execution_count": 41,
   "id": "912c0edd",
   "metadata": {},
   "outputs": [
    {
     "name": "stdout",
     "output_type": "stream",
     "text": [
      "My name is John with id 0\n"
     ]
    }
   ],
   "source": [
    "print(s1)"
   ]
  },
  {
   "cell_type": "code",
   "execution_count": 42,
   "id": "f22ff914",
   "metadata": {},
   "outputs": [
    {
     "name": "stdout",
     "output_type": "stream",
     "text": [
      "My name is Bill with id 1\n"
     ]
    }
   ],
   "source": [
    "print(s2)"
   ]
  },
  {
   "cell_type": "code",
   "execution_count": 43,
   "id": "f6a9761a",
   "metadata": {},
   "outputs": [
    {
     "data": {
      "text/plain": [
       "My name is John with id 0"
      ]
     },
     "execution_count": 43,
     "metadata": {},
     "output_type": "execute_result"
    }
   ],
   "source": [
    "s1"
   ]
  },
  {
   "cell_type": "code",
   "execution_count": 44,
   "id": "8abec56f",
   "metadata": {},
   "outputs": [],
   "source": [
    "student_lst = [s1,s2]"
   ]
  },
  {
   "cell_type": "code",
   "execution_count": 45,
   "id": "cd4f79d0",
   "metadata": {},
   "outputs": [
    {
     "data": {
      "text/plain": [
       "[My name is John with id 0, My name is Bill with id 1]"
      ]
     },
     "execution_count": 45,
     "metadata": {},
     "output_type": "execute_result"
    }
   ],
   "source": [
    "student_lst"
   ]
  },
  {
   "cell_type": "code",
   "execution_count": null,
   "id": "356317a0",
   "metadata": {},
   "outputs": [],
   "source": []
  },
  {
   "cell_type": "code",
   "execution_count": 46,
   "id": "a0ff0b60",
   "metadata": {},
   "outputs": [],
   "source": [
    "a = 5\n",
    "b = 2"
   ]
  },
  {
   "cell_type": "code",
   "execution_count": 47,
   "id": "e9c82abd",
   "metadata": {},
   "outputs": [
    {
     "data": {
      "text/plain": [
       "7"
      ]
     },
     "execution_count": 47,
     "metadata": {},
     "output_type": "execute_result"
    }
   ],
   "source": [
    "a + b"
   ]
  },
  {
   "cell_type": "code",
   "execution_count": 48,
   "id": "0c86736a",
   "metadata": {
    "scrolled": true
   },
   "outputs": [
    {
     "data": {
      "text/plain": [
       "7"
      ]
     },
     "execution_count": 48,
     "metadata": {},
     "output_type": "execute_result"
    }
   ],
   "source": [
    "a.__add__(b)"
   ]
  },
  {
   "cell_type": "code",
   "execution_count": 49,
   "id": "8891c0ce",
   "metadata": {},
   "outputs": [
    {
     "data": {
      "text/plain": [
       "My name is John with id 0"
      ]
     },
     "execution_count": 49,
     "metadata": {},
     "output_type": "execute_result"
    }
   ],
   "source": [
    "s1"
   ]
  },
  {
   "cell_type": "code",
   "execution_count": 50,
   "id": "d55842c8",
   "metadata": {},
   "outputs": [
    {
     "data": {
      "text/plain": [
       "My name is Bill with id 1"
      ]
     },
     "execution_count": 50,
     "metadata": {},
     "output_type": "execute_result"
    }
   ],
   "source": [
    "s2"
   ]
  },
  {
   "cell_type": "code",
   "execution_count": null,
   "id": "790fdf81",
   "metadata": {},
   "outputs": [],
   "source": []
  },
  {
   "cell_type": "code",
   "execution_count": null,
   "id": "11933fee",
   "metadata": {},
   "outputs": [],
   "source": []
  },
  {
   "cell_type": "code",
   "execution_count": null,
   "id": "4ebeb582",
   "metadata": {},
   "outputs": [],
   "source": []
  },
  {
   "cell_type": "code",
   "execution_count": 51,
   "id": "f3af1e97",
   "metadata": {},
   "outputs": [],
   "source": [
    "class Student:\n",
    "    \n",
    "    # class variable\n",
    "    count = 0\n",
    "    \n",
    "    # constructor\n",
    "    def __init__(self, new_name):\n",
    "        print(\"Creating a new student...\")\n",
    "        self.name = new_name\n",
    "        self.id = Student.count\n",
    "        Student.count +=1\n",
    "    \n",
    "    def __str__(self):\n",
    "        return f\"My name is {self.name} with id {self.id}\"\n",
    "    \n",
    "    def __repr__(self):\n",
    "        return f\"My name is {self.name} with id {self.id}\"\n",
    "    \n",
    "    def intro(self):\n",
    "        print(f\"Hello! My name is {self.name}, and roll no. is {self.id}\")"
   ]
  },
  {
   "cell_type": "code",
   "execution_count": 52,
   "id": "706b578c",
   "metadata": {},
   "outputs": [
    {
     "name": "stdout",
     "output_type": "stream",
     "text": [
      "Creating a new student...\n",
      "Creating a new student...\n"
     ]
    }
   ],
   "source": [
    "s1 = Student(\"John\")\n",
    "s2 = Student(\"Bill\")"
   ]
  },
  {
   "cell_type": "code",
   "execution_count": 53,
   "id": "091ee163",
   "metadata": {},
   "outputs": [
    {
     "name": "stdout",
     "output_type": "stream",
     "text": [
      "Hello! My name is John, and roll no. is 0\n"
     ]
    }
   ],
   "source": [
    "s1.intro()"
   ]
  },
  {
   "cell_type": "code",
   "execution_count": 54,
   "id": "becb8154",
   "metadata": {},
   "outputs": [
    {
     "name": "stdout",
     "output_type": "stream",
     "text": [
      "Hello! My name is Bill, and roll no. is 1\n"
     ]
    }
   ],
   "source": [
    "s2.intro()"
   ]
  },
  {
   "cell_type": "code",
   "execution_count": 55,
   "id": "54b2c5cc",
   "metadata": {},
   "outputs": [
    {
     "ename": "TypeError",
     "evalue": "Student.__init__() missing 1 required positional argument: 'new_name'",
     "output_type": "error",
     "traceback": [
      "\u001b[1;31m---------------------------------------------------------------------------\u001b[0m",
      "\u001b[1;31mTypeError\u001b[0m                                 Traceback (most recent call last)",
      "Cell \u001b[1;32mIn[55], line 1\u001b[0m\n\u001b[1;32m----> 1\u001b[0m \u001b[43mStudent\u001b[49m\u001b[43m(\u001b[49m\u001b[43m)\u001b[49m\n",
      "\u001b[1;31mTypeError\u001b[0m: Student.__init__() missing 1 required positional argument: 'new_name'"
     ]
    }
   ],
   "source": [
    "Student()"
   ]
  },
  {
   "cell_type": "code",
   "execution_count": null,
   "id": "e4880b55",
   "metadata": {},
   "outputs": [],
   "source": []
  },
  {
   "cell_type": "code",
   "execution_count": 56,
   "id": "28ef3b18",
   "metadata": {},
   "outputs": [],
   "source": [
    "class Account:\n",
    "    acc_no = 1001 \n",
    "    def __init__(self, balance=10000):\n",
    "        self.accno = Account.acc_no\n",
    "        Account.acc_no += 1\n",
    "        self.acc_balance = balance \n",
    "    \n",
    "    def __repr__(self):\n",
    "        return f\"Acc {self.accno} has balance {self.acc_balance}\"\n",
    "\n",
    "    def deposite(self, amount):\n",
    "        if amount>0:\n",
    "            print(\"Adding money.....\")\n",
    "            self.acc_balance += amount\n",
    "        \n",
    "    def withdrawl(self, amount):\n",
    "        if(amount > self.acc_balance):\n",
    "            print(\"Insufficient balance\")\n",
    "        else:\n",
    "            print(\"krrrrrrr......\")\n",
    "            self.acc_balance -= amount\n",
    "    \n",
    "    # __eq__\n",
    "    # __gt__"
   ]
  },
  {
   "cell_type": "code",
   "execution_count": 57,
   "id": "458b36d1",
   "metadata": {},
   "outputs": [],
   "source": [
    "a1 = Account(20000)"
   ]
  },
  {
   "cell_type": "code",
   "execution_count": 58,
   "id": "312e18f5",
   "metadata": {},
   "outputs": [
    {
     "name": "stdout",
     "output_type": "stream",
     "text": [
      "Acc 1001 has balance 20000\n"
     ]
    }
   ],
   "source": [
    "print(a1)"
   ]
  },
  {
   "cell_type": "code",
   "execution_count": 59,
   "id": "cbe93135",
   "metadata": {},
   "outputs": [
    {
     "name": "stdout",
     "output_type": "stream",
     "text": [
      "Adding money.....\n"
     ]
    }
   ],
   "source": [
    "a1.deposite(5000)"
   ]
  },
  {
   "cell_type": "code",
   "execution_count": 60,
   "id": "37315d92",
   "metadata": {},
   "outputs": [
    {
     "data": {
      "text/plain": [
       "Acc 1001 has balance 25000"
      ]
     },
     "execution_count": 60,
     "metadata": {},
     "output_type": "execute_result"
    }
   ],
   "source": [
    "a1"
   ]
  },
  {
   "cell_type": "code",
   "execution_count": 61,
   "id": "312d702e",
   "metadata": {},
   "outputs": [
    {
     "name": "stdout",
     "output_type": "stream",
     "text": [
      "Insufficient balance\n"
     ]
    }
   ],
   "source": [
    "a1.withdrawl(30000)"
   ]
  },
  {
   "cell_type": "code",
   "execution_count": 62,
   "id": "c1d96777",
   "metadata": {},
   "outputs": [
    {
     "name": "stdout",
     "output_type": "stream",
     "text": [
      "krrrrrrr......\n"
     ]
    }
   ],
   "source": [
    "a1.withdrawl(10000)"
   ]
  },
  {
   "cell_type": "code",
   "execution_count": 63,
   "id": "4c397a51",
   "metadata": {},
   "outputs": [
    {
     "data": {
      "text/plain": [
       "Acc 1001 has balance 15000"
      ]
     },
     "execution_count": 63,
     "metadata": {},
     "output_type": "execute_result"
    }
   ],
   "source": [
    "a1"
   ]
  },
  {
   "cell_type": "code",
   "execution_count": 64,
   "id": "79a5c4e3",
   "metadata": {},
   "outputs": [],
   "source": [
    "a1.deposite(-5000)"
   ]
  },
  {
   "cell_type": "code",
   "execution_count": 65,
   "id": "4b5c012a",
   "metadata": {},
   "outputs": [
    {
     "data": {
      "text/plain": [
       "Acc 1001 has balance 15000"
      ]
     },
     "execution_count": 65,
     "metadata": {},
     "output_type": "execute_result"
    }
   ],
   "source": [
    "a1"
   ]
  },
  {
   "cell_type": "code",
   "execution_count": 66,
   "id": "79140e7c",
   "metadata": {},
   "outputs": [
    {
     "data": {
      "text/plain": [
       "'Acc 1001 has balance 15000'"
      ]
     },
     "execution_count": 66,
     "metadata": {},
     "output_type": "execute_result"
    }
   ],
   "source": [
    "str(a1)"
   ]
  },
  {
   "cell_type": "code",
   "execution_count": null,
   "id": "407e3ea1",
   "metadata": {},
   "outputs": [],
   "source": []
  },
  {
   "cell_type": "markdown",
   "id": "b9db711b",
   "metadata": {},
   "source": [
    "# Inheritance"
   ]
  },
  {
   "cell_type": "code",
   "execution_count": 67,
   "id": "662b1e3d",
   "metadata": {},
   "outputs": [],
   "source": [
    "class Account:\n",
    "    acc_no = 1001 \n",
    "    def __init__(self, balance=10000):\n",
    "        print(\"creating new account...\")\n",
    "        self.accno = Account.acc_no\n",
    "        Account.acc_no += 1\n",
    "        self.acc_balance = balance\n",
    "        self.max_trans = 2\n",
    "        self.num_trans = 0\n",
    "    \n",
    "    def __repr__(self):\n",
    "        return f\"Acc {self.accno} has balance {self.acc_balance}\"\n",
    "\n",
    "    def deposite(self, amount):\n",
    "        if amount>0 and self.num_trans < self.max_trans:\n",
    "            print(\"Adding money.....\")\n",
    "            self.acc_balance += amount\n",
    "            self.num_trans+= 1\n",
    "        \n",
    "    def withdrawl(self, amount):\n",
    "        if(amount > self.acc_balance and self.num_trans < self.max_trans):\n",
    "            print(\"Insufficient balance\")\n",
    "        else:\n",
    "            print(\"krrrrrrr......\")\n",
    "            self.acc_balance -= amount\n",
    "            self.num_trans +=1\n",
    "            \n",
    "class SavingAccount(Account):\n",
    "    pass\n",
    "\n",
    "class CurrentAccount(Account):\n",
    "    pass"
   ]
  },
  {
   "cell_type": "code",
   "execution_count": 68,
   "id": "5c2ea8af",
   "metadata": {},
   "outputs": [
    {
     "name": "stdout",
     "output_type": "stream",
     "text": [
      "creating new account...\n"
     ]
    }
   ],
   "source": [
    "sa_1 = SavingAccount()"
   ]
  },
  {
   "cell_type": "code",
   "execution_count": 69,
   "id": "bd3c7996",
   "metadata": {},
   "outputs": [
    {
     "data": {
      "text/plain": [
       "10000"
      ]
     },
     "execution_count": 69,
     "metadata": {},
     "output_type": "execute_result"
    }
   ],
   "source": [
    "sa_1.acc_balance"
   ]
  },
  {
   "cell_type": "code",
   "execution_count": 70,
   "id": "ee205445",
   "metadata": {},
   "outputs": [
    {
     "name": "stdout",
     "output_type": "stream",
     "text": [
      "Adding money.....\n"
     ]
    }
   ],
   "source": [
    "sa_1.deposite(5000)"
   ]
  },
  {
   "cell_type": "code",
   "execution_count": 71,
   "id": "9f61592d",
   "metadata": {},
   "outputs": [
    {
     "name": "stdout",
     "output_type": "stream",
     "text": [
      "Adding money.....\n"
     ]
    }
   ],
   "source": [
    "sa_1.deposite(10000)"
   ]
  },
  {
   "cell_type": "code",
   "execution_count": 72,
   "id": "3e9a38da",
   "metadata": {},
   "outputs": [
    {
     "data": {
      "text/plain": [
       "Acc 1001 has balance 25000"
      ]
     },
     "execution_count": 72,
     "metadata": {},
     "output_type": "execute_result"
    }
   ],
   "source": [
    "sa_1"
   ]
  },
  {
   "cell_type": "code",
   "execution_count": 73,
   "id": "69b50a6c",
   "metadata": {},
   "outputs": [],
   "source": [
    "sa_1.deposite(5000)"
   ]
  },
  {
   "cell_type": "code",
   "execution_count": null,
   "id": "3d2f3da1",
   "metadata": {},
   "outputs": [],
   "source": []
  },
  {
   "cell_type": "code",
   "execution_count": null,
   "id": "13d34400",
   "metadata": {},
   "outputs": [],
   "source": []
  },
  {
   "cell_type": "code",
   "execution_count": 74,
   "id": "46d0cc37",
   "metadata": {},
   "outputs": [],
   "source": [
    "class Account:\n",
    "    acc_no = 1001 \n",
    "    def __init__(self, balance=10000):\n",
    "        print(\"creating new account...\")\n",
    "        self.accno = Account.acc_no\n",
    "        Account.acc_no += 1\n",
    "        self.acc_balance = balance\n",
    "        self.num_trans = 0\n",
    "    \n",
    "    def __repr__(self):\n",
    "        return f\"Acc {self.accno} has balance {self.acc_balance}\"\n",
    "\n",
    "    def deposite(self, amount):\n",
    "        if amount>0 and self.num_trans < self.max_trans:\n",
    "            print(\"Adding money.....\")\n",
    "            self.acc_balance += amount\n",
    "            self.num_trans+= 1\n",
    "        \n",
    "    def withdrawl(self, amount):\n",
    "        if(amount > self.acc_balance):\n",
    "            print(\"Insufficient balance\")\n",
    "        elif(self.num_trans > self.max_trans):\n",
    "            print(\"limit crossed\")\n",
    "        else:\n",
    "            print(\"krrrrrrr......\")\n",
    "            self.acc_balance -= amount\n",
    "            self.num_trans +=1\n",
    "            \n",
    "class SavingAccount(Account):\n",
    "    def __init__(self):\n",
    "        \n",
    "        super().__init__()\n",
    "        \n",
    "        self.max_trans = 2\n",
    "\n",
    "        \n",
    "        \n",
    "\n",
    "class CurrentAccount(Account):\n",
    "    def __init__(self):\n",
    "        super().__init__()\n",
    "        \n",
    "        self.max_trans = 10"
   ]
  },
  {
   "cell_type": "code",
   "execution_count": 75,
   "id": "c866b00a",
   "metadata": {},
   "outputs": [
    {
     "name": "stdout",
     "output_type": "stream",
     "text": [
      "creating new account...\n",
      "creating new account...\n"
     ]
    }
   ],
   "source": [
    "sa_1 = SavingAccount()\n",
    "ca_1 = CurrentAccount()"
   ]
  },
  {
   "cell_type": "code",
   "execution_count": 76,
   "id": "8343eb3e",
   "metadata": {},
   "outputs": [
    {
     "data": {
      "text/plain": [
       "2"
      ]
     },
     "execution_count": 76,
     "metadata": {},
     "output_type": "execute_result"
    }
   ],
   "source": [
    "sa_1.max_trans"
   ]
  },
  {
   "cell_type": "code",
   "execution_count": 77,
   "id": "7488818d",
   "metadata": {},
   "outputs": [
    {
     "data": {
      "text/plain": [
       "10"
      ]
     },
     "execution_count": 77,
     "metadata": {},
     "output_type": "execute_result"
    }
   ],
   "source": [
    "ca_1.max_trans"
   ]
  },
  {
   "cell_type": "code",
   "execution_count": 78,
   "id": "205e6c6b",
   "metadata": {},
   "outputs": [
    {
     "name": "stdout",
     "output_type": "stream",
     "text": [
      "Acc 1001 has balance 10000\n"
     ]
    }
   ],
   "source": [
    "print(sa_1)"
   ]
  },
  {
   "cell_type": "code",
   "execution_count": 79,
   "id": "23af9f23",
   "metadata": {},
   "outputs": [
    {
     "name": "stdout",
     "output_type": "stream",
     "text": [
      "Acc 1002 has balance 10000\n"
     ]
    }
   ],
   "source": [
    "print(ca_1)"
   ]
  },
  {
   "cell_type": "code",
   "execution_count": 80,
   "id": "6d7fb72c",
   "metadata": {},
   "outputs": [
    {
     "name": "stdout",
     "output_type": "stream",
     "text": [
      "Adding money.....\n",
      "Adding money.....\n"
     ]
    }
   ],
   "source": [
    "sa_1.deposite(5000)\n",
    "sa_1.deposite(10000)\n",
    "sa_1.deposite(10000)"
   ]
  },
  {
   "cell_type": "code",
   "execution_count": 81,
   "id": "f856a6ab",
   "metadata": {},
   "outputs": [
    {
     "data": {
      "text/plain": [
       "Acc 1001 has balance 25000"
      ]
     },
     "execution_count": 81,
     "metadata": {},
     "output_type": "execute_result"
    }
   ],
   "source": [
    "sa_1"
   ]
  },
  {
   "cell_type": "code",
   "execution_count": 82,
   "id": "2ca77309",
   "metadata": {},
   "outputs": [
    {
     "name": "stdout",
     "output_type": "stream",
     "text": [
      "krrrrrrr......\n"
     ]
    }
   ],
   "source": [
    "sa_1.withdrawl(5000)"
   ]
  },
  {
   "cell_type": "code",
   "execution_count": 83,
   "id": "f9031914",
   "metadata": {},
   "outputs": [
    {
     "name": "stdout",
     "output_type": "stream",
     "text": [
      "Adding money.....\n",
      "Adding money.....\n",
      "Adding money.....\n"
     ]
    }
   ],
   "source": [
    "ca_1.deposite(5000)\n",
    "ca_1.deposite(10000)\n",
    "ca_1.deposite(10000)"
   ]
  },
  {
   "cell_type": "code",
   "execution_count": 84,
   "id": "a8caf486",
   "metadata": {},
   "outputs": [
    {
     "name": "stdout",
     "output_type": "stream",
     "text": [
      "krrrrrrr......\n"
     ]
    }
   ],
   "source": [
    "ca_1.withdrawl(5000)"
   ]
  },
  {
   "cell_type": "code",
   "execution_count": 85,
   "id": "3869033a",
   "metadata": {},
   "outputs": [
    {
     "data": {
      "text/plain": [
       "Acc 1002 has balance 30000"
      ]
     },
     "execution_count": 85,
     "metadata": {},
     "output_type": "execute_result"
    }
   ],
   "source": [
    "ca_1"
   ]
  },
  {
   "cell_type": "code",
   "execution_count": null,
   "id": "093e7483",
   "metadata": {},
   "outputs": [],
   "source": []
  },
  {
   "cell_type": "code",
   "execution_count": null,
   "id": "c915b312",
   "metadata": {},
   "outputs": [],
   "source": []
  },
  {
   "cell_type": "code",
   "execution_count": 86,
   "id": "f486564e",
   "metadata": {},
   "outputs": [],
   "source": [
    "class Account:\n",
    "    acc_no = 1001 \n",
    "    def __init__(self, balance=10000):\n",
    "        print(\"creating new account...\")\n",
    "        self.accno = Account.acc_no\n",
    "        Account.acc_no += 1\n",
    "        self.acc_balance = balance\n",
    "        self.num_trans = 0\n",
    "    \n",
    "    def __repr__(self):\n",
    "        return f\"Acc {self.accno} has balance {self.acc_balance}\"\n",
    "\n",
    "    def deposite(self, amount):\n",
    "        if amount>0 and self.num_trans < self.max_trans:\n",
    "            print(\"Adding money.....\")\n",
    "            self.acc_balance += amount\n",
    "            self.num_trans+= 1\n",
    "        \n",
    "    def withdrawl(self, amount):\n",
    "        if(amount > self.acc_balance):\n",
    "            print(\"Insufficient balance\")\n",
    "        elif(self.num_trans > self.max_trans):\n",
    "            print(\"limit crossed\")\n",
    "        else:\n",
    "            print(\"krrrrrrr......\")\n",
    "            self.acc_balance -= amount\n",
    "            self.num_trans +=1\n",
    "            \n",
    "    def getInterest(self):\n",
    "        pass\n",
    "            \n",
    "class SavingAccount(Account):\n",
    "    def __init__(self):\n",
    "        \n",
    "        super().__init__()\n",
    "        \n",
    "        \n",
    "        self.max_trans = 2\n",
    "\n",
    "    \n",
    "    def getInterest(self):\n",
    "        interest = 0.05*self.acc_balance\n",
    "        print(f\"Intrest earned: {interest}\")\n",
    "        \n",
    "\n",
    "class CurrentAccount(Account):\n",
    "    def __init__(self):\n",
    "        super().__init__()\n",
    "        \n",
    "        self.max_trans = 10\n",
    "    \n",
    "    def getInterest(self):\n",
    "        interest = 0.02*self.acc_balance\n",
    "        print(f\"Intrest earned: {interest}\")"
   ]
  },
  {
   "cell_type": "code",
   "execution_count": 87,
   "id": "a180ed3b",
   "metadata": {},
   "outputs": [
    {
     "name": "stdout",
     "output_type": "stream",
     "text": [
      "creating new account...\n",
      "creating new account...\n"
     ]
    }
   ],
   "source": [
    "sa_1 = SavingAccount()\n",
    "ca_1 = CurrentAccount()"
   ]
  },
  {
   "cell_type": "code",
   "execution_count": 88,
   "id": "2c2d2137",
   "metadata": {},
   "outputs": [
    {
     "name": "stdout",
     "output_type": "stream",
     "text": [
      "Intrest earned: 500.0\n"
     ]
    }
   ],
   "source": [
    "sa_1.getInterest()"
   ]
  },
  {
   "cell_type": "code",
   "execution_count": 89,
   "id": "1248b5fc",
   "metadata": {},
   "outputs": [
    {
     "name": "stdout",
     "output_type": "stream",
     "text": [
      "Intrest earned: 200.0\n"
     ]
    }
   ],
   "source": [
    "ca_1.getInterest()"
   ]
  },
  {
   "cell_type": "code",
   "execution_count": null,
   "id": "8c57a5b9",
   "metadata": {},
   "outputs": [],
   "source": []
  },
  {
   "cell_type": "code",
   "execution_count": 90,
   "id": "666c3548",
   "metadata": {},
   "outputs": [
    {
     "data": {
      "text/plain": [
       "6"
      ]
     },
     "execution_count": 90,
     "metadata": {},
     "output_type": "execute_result"
    }
   ],
   "source": [
    "2 + 4"
   ]
  },
  {
   "cell_type": "code",
   "execution_count": 91,
   "id": "0d0e698a",
   "metadata": {},
   "outputs": [
    {
     "data": {
      "text/plain": [
       "'ab'"
      ]
     },
     "execution_count": 91,
     "metadata": {},
     "output_type": "execute_result"
    }
   ],
   "source": [
    "'a' + 'b'"
   ]
  },
  {
   "cell_type": "code",
   "execution_count": 92,
   "id": "a9bc6bc8",
   "metadata": {},
   "outputs": [
    {
     "data": {
      "text/plain": [
       "[1, 2, 3, 4, 5, 6]"
      ]
     },
     "execution_count": 92,
     "metadata": {},
     "output_type": "execute_result"
    }
   ],
   "source": [
    "[1,2,3] + [4,5,6]"
   ]
  },
  {
   "cell_type": "code",
   "execution_count": null,
   "id": "b833e343",
   "metadata": {},
   "outputs": [],
   "source": []
  },
  {
   "cell_type": "code",
   "execution_count": null,
   "id": "72cc2f03",
   "metadata": {},
   "outputs": [],
   "source": []
  },
  {
   "cell_type": "code",
   "execution_count": 93,
   "id": "bb5a496a",
   "metadata": {},
   "outputs": [],
   "source": [
    "class Account():\n",
    "    def __init__(self, balance= 10000):\n",
    "        # private variable\n",
    "        self.__balance = balance\n",
    "    \n",
    "    def get_balance(self):\n",
    "        return self.__balance\n",
    "    \n",
    "    def __helper(self):\n",
    "        print(\"I'm a private method\")"
   ]
  },
  {
   "cell_type": "code",
   "execution_count": 94,
   "id": "dfbd7de5",
   "metadata": {},
   "outputs": [],
   "source": [
    "acc = Account()"
   ]
  },
  {
   "cell_type": "code",
   "execution_count": 95,
   "id": "ffb73cdc",
   "metadata": {},
   "outputs": [
    {
     "data": {
      "text/plain": [
       "10000"
      ]
     },
     "execution_count": 95,
     "metadata": {},
     "output_type": "execute_result"
    }
   ],
   "source": [
    "acc.get_balance()"
   ]
  },
  {
   "cell_type": "code",
   "execution_count": 96,
   "id": "71eb5523",
   "metadata": {},
   "outputs": [
    {
     "ename": "AttributeError",
     "evalue": "'Account' object has no attribute '__balance'",
     "output_type": "error",
     "traceback": [
      "\u001b[1;31m---------------------------------------------------------------------------\u001b[0m",
      "\u001b[1;31mAttributeError\u001b[0m                            Traceback (most recent call last)",
      "Cell \u001b[1;32mIn[96], line 1\u001b[0m\n\u001b[1;32m----> 1\u001b[0m \u001b[43macc\u001b[49m\u001b[38;5;241;43m.\u001b[39;49m\u001b[43m__balance\u001b[49m\n",
      "\u001b[1;31mAttributeError\u001b[0m: 'Account' object has no attribute '__balance'"
     ]
    }
   ],
   "source": [
    "acc.__balance"
   ]
  },
  {
   "cell_type": "code",
   "execution_count": 97,
   "id": "f209fd7c",
   "metadata": {},
   "outputs": [],
   "source": [
    "acc.balance = 999999"
   ]
  },
  {
   "cell_type": "code",
   "execution_count": 98,
   "id": "9d76ef2f",
   "metadata": {},
   "outputs": [
    {
     "data": {
      "text/plain": [
       "10000"
      ]
     },
     "execution_count": 98,
     "metadata": {},
     "output_type": "execute_result"
    }
   ],
   "source": [
    "acc.get_balance()"
   ]
  },
  {
   "cell_type": "code",
   "execution_count": null,
   "id": "ced739fe",
   "metadata": {},
   "outputs": [],
   "source": []
  },
  {
   "cell_type": "code",
   "execution_count": null,
   "id": "2300a858",
   "metadata": {},
   "outputs": [],
   "source": []
  },
  {
   "cell_type": "code",
   "execution_count": 99,
   "id": "9f824b51",
   "metadata": {},
   "outputs": [
    {
     "name": "stdout",
     "output_type": "stream",
     "text": [
      "A\n",
      "A\n",
      "B\n"
     ]
    }
   ],
   "source": [
    "# Inheritance\n",
    "\n",
    "class A:\n",
    "\n",
    "    def one(self):\n",
    "\n",
    "        return self.two()   \n",
    "\n",
    "    def two(self):\n",
    "\n",
    "        print('A')\n",
    "\n",
    "class B(A):\n",
    "\n",
    "    def two(self):\n",
    "        super().two()\n",
    "        print('B')\n",
    "\n",
    "obj1=A()\n",
    "obj2=B()\n",
    "\n",
    "obj1.two()\n",
    "obj2.two()"
   ]
  }
 ],
 "metadata": {
  "kernelspec": {
   "display_name": "Python 3",
   "language": "python",
   "name": "python3"
  },
  "language_info": {
   "codemirror_mode": {
    "name": "ipython",
    "version": 3
   },
   "file_extension": ".py",
   "mimetype": "text/x-python",
   "name": "python",
   "nbconvert_exporter": "python",
   "pygments_lexer": "ipython3",
   "version": "3.12.9"
  }
 },
 "nbformat": 4,
 "nbformat_minor": 5
}
